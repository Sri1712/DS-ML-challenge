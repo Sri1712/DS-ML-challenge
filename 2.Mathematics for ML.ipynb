{
 "cells": [
  {
   "cell_type": "markdown",
   "metadata": {},
   "source": [
    "#  Maths in Machine Learning \n",
    "\n",
    "1. Linear Algebra\n",
    "2. Statistics & Probability\n",
    "3. Multivariate calculus\n",
    "4. Algorithms "
   ]
  },
  {
   "cell_type": "markdown",
   "metadata": {},
   "source": [
    "# Types of Data\n",
    "\n",
    "## 1. Numerical data\n",
    "* quantitative measurement ex→ weights of people\n",
    "* Discrete data - integer based ex → total purchase that the customer made in a year\n",
    "* Continuous data - infinite number of possible values Ex → amount of time it takes for the user to register in a website\n",
    "\n",
    "## 2. Categorical data\n",
    "* Qualitative Data - no mathematical insights\n",
    "* Ex → categories of items\n",
    "* Id’s can be used to represent these categorical values but these categorical values have no meaning.\n",
    "\n",
    "## 3. Ordinal\n",
    "* Combo of numerical and categorical data\n",
    "* Ex → movie review on scale of 1-5 stars\n",
    "* Here, movie review is categorical data and rating that we provide within 1-5 gives it a mathematical meaning.\n"
   ]
  },
  {
   "cell_type": "markdown",
   "metadata": {},
   "source": [
    "# Mean\n",
    "* Average number of values.\n",
    "* Total sum / Number of counts\n",
    "    Ex → number of chocolates in each box in chocolate shop\n",
    "\n",
    "# Median\n",
    "* It is used to find the middle most data.\n",
    "* Determines the point from where 50% of data is more and 50% of data is less.\n",
    "* Ex → 1,2,3,4,5 Median here is 3\n",
    "* Ex → 5, 6, 1, 2, 1, 2, 3\n",
    "    Data must be sorted and then median must be took\n",
    "    1, 1, 2, 2, 3, 5, 6\n",
    "    Median is 2\n",
    "\n",
    "# Mode\n",
    "* Repetitive value\n",
    "* Used with categorical, ordinal, and discrete data which doesn’t have much central tendency.\n",
    "    Ex → preferred flavour of ice cream\n",
    "\n",
    "# Standard Deviation\n",
    "* Standard Deviation is a measure of how spread out numbers are.\n",
    "* measures the dispersion of a dataset relative to its mean.\n",
    "* calculated as the square root of variance by determining each data point's deviation relative to the mean.\n",
    "\n",
    "# Variance\n",
    "* statistical measurement of the spread between numbers in a data set\n",
    "* measures how far each number in the set is from the mean and thus from every other number in the set.\n",
    "* Population vs. Sample\n",
    "        Using Sample of data in place of entire data set(population) then sample variance must be used\n",
    "* Population\n",
    "    entire group that you want to draw conclusions about.\n",
    "* Sample\n",
    "     specific group that you will collect data from.\n",
    "     size of the sample is always less than the total size of the population\n",
    "     A sample of the population is used in research, as it is easier and cost-effective to process a smaller subset of the population rather than the entire group.\n",
    "     \n",
    "# Probability Density Functions\n",
    "* statistical expression that defines a probability distribution (the likelihood of an outcome) for a discrete random variable (e.g., a stock or ETF) as opposed to a continuous random variable\n",
    "* probability density plots are used to understand the overall distribution of data.\n",
    "* used to understand data distribution for a continuous variable and to know the likelihood (or probability) of obtaining a range of values that the continuous variable can assume.\n",
    "\n",
    "# Normal distribution\n",
    "    Gives the probability of a data point falling within some given range of a given value.\n",
    "    \n",
    "# Covariance\n",
    "    statistical tool that is used to determine the relationship between the movement of two asset prices\n",
    "\n",
    "# Bayes Theorem\n",
    "* probability of A given B, is the probability of A times the probability of B given A over the probability of B.\n",
    "* the probability of something that depends on B depends very much on the base probability of B and A.\n",
    "    Ex → Vaccine testing"
   ]
  },
  {
   "cell_type": "markdown",
   "metadata": {},
   "source": [
    "Check this link : https://www.edureka.co/blog/mathematics-for-machine-learning/"
   ]
  }
 ],
 "metadata": {
  "kernelspec": {
   "display_name": "Python 3",
   "language": "python",
   "name": "python3"
  },
  "language_info": {
   "codemirror_mode": {
    "name": "ipython",
    "version": 3
   },
   "file_extension": ".py",
   "mimetype": "text/x-python",
   "name": "python",
   "nbconvert_exporter": "python",
   "pygments_lexer": "ipython3",
   "version": "3.7.4"
  }
 },
 "nbformat": 4,
 "nbformat_minor": 2
}
